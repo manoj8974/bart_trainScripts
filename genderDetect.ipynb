{
 "cells": [
  {
   "cell_type": "code",
   "execution_count": 8,
   "metadata": {},
   "outputs": [],
   "source": [
    "import spacy\n"
   ]
  },
  {
   "cell_type": "code",
   "execution_count": 9,
   "metadata": {},
   "outputs": [],
   "source": [
    "# Load the English language model in spaCy\n",
    "nlp = spacy.load(\"en_core_web_sm\")"
   ]
  },
  {
   "cell_type": "code",
   "execution_count": 10,
   "metadata": {},
   "outputs": [],
   "source": [
    "# Define a function to detect the gender of a text\n",
    "def detect_gender(text):\n",
    "    doc = nlp(text)\n",
    "    male_pronouns = [\"he\", \"him\", \"his\", \"himself\"]\n",
    "    female_pronouns = [\"she\", \"her\", \"hers\", \"herself\"]\n",
    "\n",
    "    male_count = sum(token.text.lower() in male_pronouns for token in doc)\n",
    "    female_count = sum(token.text.lower() in female_pronouns for token in doc)\n",
    "\n",
    "    if male_count > female_count:\n",
    "        return \"male\"\n",
    "    elif female_count > male_count:\n",
    "        return \"female\"\n",
    "    else:\n",
    "        return \"unknown\"  # If unable to detect gender\n"
   ]
  },
  {
   "cell_type": "code",
   "execution_count": 11,
   "metadata": {},
   "outputs": [],
   "source": [
    "# Sample conversation\n",
    "conversation = \"\"\"\n",
    "Customer: Hello, I'm having trouble with my account. I can't seem to log in.\n",
    "Agent: I'm sorry to hear that. I'll do my best to help. Could you please provide me with your account details?\n",
    "Customer: Sure, my username is \"Customer123\".\n",
    "Agent: Thank you. It seems there might be an issue with your password. I'll reset it for you. Can you confirm the email associated with your account?\n",
    "Customer: It's customer123@email.com.\n",
    "Agent: Got it. I've sent a password reset link to your email. Please check and follow the instructions to set a new password.\n",
    "Customer: I've received it. All done now, and I'm back in. Thank you for your help!\n",
    "Agent: You're welcome! Is there anything else I can assist you with today?\n",
    "Customer: No, that's all, thank you. You've been very helpful.\n",
    "Agent: I'm glad I could assist. If you have any further questions, don't hesitate to reach out. Have a great day!\n",
    "Customer: You too, thank you! Goodbye.\n",
    "Agent: Goodbye!\n",
    "\"\"\""
   ]
  },
  {
   "cell_type": "code",
   "execution_count": 12,
   "metadata": {},
   "outputs": [],
   "source": [
    "# Split the conversation into individual sentences to analyze the gender of the speakers\n",
    "sentences = conversation.split(\"\\n\")\n"
   ]
  },
  {
   "cell_type": "code",
   "execution_count": 13,
   "metadata": {},
   "outputs": [
    {
     "name": "stdout",
     "output_type": "stream",
     "text": [
      "Customer's gender: unknown\n",
      "Agent's gender: unknown\n",
      "Customer's gender: unknown\n",
      "Agent's gender: unknown\n",
      "Customer's gender: unknown\n",
      "Agent's gender: unknown\n",
      "Customer's gender: unknown\n",
      "Agent's gender: unknown\n",
      "Customer's gender: unknown\n",
      "Agent's gender: unknown\n",
      "Customer's gender: unknown\n",
      "Agent's gender: unknown\n",
      "Customer's gender: unknown\n",
      "Agent's gender: unknown\n"
     ]
    }
   ],
   "source": [
    "# Detect gender for each sentence (assuming alternating roles between customer and agent)\n",
    "for idx, sentence in enumerate(sentences):\n",
    "    if idx % 2 == 0:  # Assuming even sentences are from the customer and odd ones are from the agent\n",
    "        speaker = \"Customer\"\n",
    "    else:\n",
    "        speaker = \"Agent\"\n",
    "    gender = detect_gender(sentence)\n",
    "    print(f\"{speaker}'s gender: {gender}\")"
   ]
  },
  {
   "cell_type": "markdown",
   "metadata": {},
   "source": [
    "## Second Script"
   ]
  },
  {
   "cell_type": "code",
   "execution_count": 20,
   "metadata": {},
   "outputs": [
    {
     "ename": "ImportError",
     "evalue": "cannot import name 'gender' from 'gender_guesser' (c:\\Users\\kumar\\OneDrive\\Desktop\\Programs\\VirtualENV\\lib\\site-packages\\gender_guesser\\__init__.py)",
     "output_type": "error",
     "traceback": [
      "\u001b[1;31m---------------------------------------------------------------------------\u001b[0m",
      "\u001b[1;31mImportError\u001b[0m                               Traceback (most recent call last)",
      "\u001b[1;32mc:\\Users\\kumar\\OneDrive\\Desktop\\Programs\\genderDetect.ipynb Cell 8\u001b[0m line \u001b[0;36m1\n\u001b[1;32m----> <a href='vscode-notebook-cell:/c%3A/Users/kumar/OneDrive/Desktop/Programs/genderDetect.ipynb#W6sZmlsZQ%3D%3D?line=0'>1</a>\u001b[0m \u001b[39mfrom\u001b[39;00m \u001b[39mgender_guesser\u001b[39;00m \u001b[39mimport\u001b[39;00m gender\n",
      "\u001b[1;31mImportError\u001b[0m: cannot import name 'gender' from 'gender_guesser' (c:\\Users\\kumar\\OneDrive\\Desktop\\Programs\\VirtualENV\\lib\\site-packages\\gender_guesser\\__init__.py)"
     ]
    }
   ],
   "source": [
    "from gender_guesser import gender"
   ]
  },
  {
   "cell_type": "code",
   "execution_count": 18,
   "metadata": {},
   "outputs": [
    {
     "ename": "NameError",
     "evalue": "name 'Detector' is not defined",
     "output_type": "error",
     "traceback": [
      "\u001b[1;31m---------------------------------------------------------------------------\u001b[0m",
      "\u001b[1;31mNameError\u001b[0m                                 Traceback (most recent call last)",
      "\u001b[1;32mc:\\Users\\kumar\\OneDrive\\Desktop\\Programs\\genderDetect.ipynb Cell 9\u001b[0m line \u001b[0;36m2\n\u001b[0;32m      <a href='vscode-notebook-cell:/c%3A/Users/kumar/OneDrive/Desktop/Programs/genderDetect.ipynb#X10sZmlsZQ%3D%3D?line=0'>1</a>\u001b[0m \u001b[39m# Create a detector object\u001b[39;00m\n\u001b[1;32m----> <a href='vscode-notebook-cell:/c%3A/Users/kumar/OneDrive/Desktop/Programs/genderDetect.ipynb#X10sZmlsZQ%3D%3D?line=1'>2</a>\u001b[0m detector \u001b[39m=\u001b[39m Detector()\n",
      "\u001b[1;31mNameError\u001b[0m: name 'Detector' is not defined"
     ]
    }
   ],
   "source": [
    "# Create a detector object\n",
    "detector = Detector()"
   ]
  },
  {
   "cell_type": "code",
   "execution_count": null,
   "metadata": {},
   "outputs": [],
   "source": []
  }
 ],
 "metadata": {
  "kernelspec": {
   "display_name": "VirtualENV",
   "language": "python",
   "name": "python3"
  },
  "language_info": {
   "codemirror_mode": {
    "name": "ipython",
    "version": 3
   },
   "file_extension": ".py",
   "mimetype": "text/x-python",
   "name": "python",
   "nbconvert_exporter": "python",
   "pygments_lexer": "ipython3",
   "version": "3.9.13"
  }
 },
 "nbformat": 4,
 "nbformat_minor": 2
}
